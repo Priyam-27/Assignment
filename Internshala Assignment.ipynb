{
 "cells": [
  {
   "cell_type": "code",
   "execution_count": 770,
   "metadata": {},
   "outputs": [],
   "source": [
    "import cv2\n",
    "import numpy as np\n",
    "import matplotlib.pyplot as plt\n",
    "%matplotlib inline"
   ]
  },
  {
   "cell_type": "code",
   "execution_count": 771,
   "metadata": {},
   "outputs": [],
   "source": [
    "## Enter the path of the image\n",
    "path = r'C:\\\\Users\\\\Priyam Srivastava\\\\Desktop\\\\InternshalaAssignment\\\\Images\\\\tmp_2.png'"
   ]
  },
  {
   "cell_type": "code",
   "execution_count": 772,
   "metadata": {},
   "outputs": [],
   "source": [
    "img = cv2.imread(path)\n",
    "cv2.imshow('Original',img)\n",
    "cv2.waitKey(5000)\n",
    "cv2.destroyAllWindows()"
   ]
  },
  {
   "cell_type": "code",
   "execution_count": 773,
   "metadata": {},
   "outputs": [],
   "source": [
    "def threshold(img):\n",
    "    '''This function returns the Threshold Image of given Input'''\n",
    "    gray = cv2.cvtColor(img, cv2.COLOR_BGR2GRAY)\n",
    "    ret, thresh = cv2.threshold(gray, 240,255, cv2.THRESH_TOZERO)\n",
    "    return thresh"
   ]
  },
  {
   "cell_type": "code",
   "execution_count": 774,
   "metadata": {},
   "outputs": [],
   "source": [
    "def edge_detection(img):\n",
    "    '''This function returns edge-detected image of given input'''\n",
    "    edged = cv2.Laplacian(src = img, ddepth = cv2.CV_8U, ksize=5)\n",
    "    edged = cv2.dilate(edged, None, iterations=1)\n",
    "    edged = cv2.erode(edged, None, iterations=1)\n",
    "    return edged"
   ]
  },
  {
   "cell_type": "code",
   "execution_count": 775,
   "metadata": {},
   "outputs": [],
   "source": [
    "def findContrs(img):\n",
    "    '''This functions find contours(outline) in the input image'''\n",
    "    contors, hierarchy = cv2.findContours(img, mode= cv2.RETR_CCOMP, method= cv2.CHAIN_APPROX_NONE)\n",
    "    return contors, hierarchy"
   ]
  },
  {
   "cell_type": "code",
   "execution_count": 776,
   "metadata": {},
   "outputs": [],
   "source": [
    "def findMidPoints(img):\n",
    "    y=int(img.shape[0]/2)\n",
    "    x=int(img.shape[1]/2)\n",
    "    return (x,y)"
   ]
  },
  {
   "cell_type": "code",
   "execution_count": 777,
   "metadata": {},
   "outputs": [],
   "source": [
    "# cv2.pointPolygon will find the distance between anypoint and contour"
   ]
  },
  {
   "cell_type": "code",
   "execution_count": 778,
   "metadata": {},
   "outputs": [],
   "source": [
    "## For point on the fence\n",
    "def check_on_fence(img):\n",
    "    distances_on=[]\n",
    "    contor, hierarchy=findContrs(threshold(img))\n",
    "    for i in range(len(contor)):\n",
    "        check=cv2.pointPolygonTest((contor[i]), findMidPoints(img), measureDist = False)\n",
    "        distance = abs(int(cv2.pointPolygonTest((contor[i]), findMidPoints(img), measureDist = True)))\n",
    "        if check == 0:\n",
    "            if hierarchy[0][i][3] == -1:\n",
    "                distances_on.append((distance, 'roads'))\n",
    "            else:\n",
    "                distances_on. append((distance, 'buildings'))\n",
    "    return distances_on"
   ]
  },
  {
   "cell_type": "code",
   "execution_count": 783,
   "metadata": {},
   "outputs": [],
   "source": [
    "## For point outside the fence\n",
    "def check_out_fence(img):\n",
    "    distances_out=[]\n",
    "    contor, hierarchy=findContrs(threshold(img))\n",
    "    for i in range(len(contor)):\n",
    "        check=cv2.pointPolygonTest((contor[i]), findMidPoints(img), measureDist = False)\n",
    "        distance = abs(int(cv2.pointPolygonTest((contor[i]), findMidPoints(img), measureDist = True)))\n",
    "        if check == -1:\n",
    "            if hierarchy[0][i][3] in [-1, 7, 10, 19]:\n",
    "                distances_out.append((distance, 'roads'))\n",
    "            else:\n",
    "                distances_out. append((distance, 'buildings'))\n",
    "    return distances_out"
   ]
  },
  {
   "cell_type": "code",
   "execution_count": 784,
   "metadata": {},
   "outputs": [],
   "source": [
    "## For point inside the fence\n",
    "def check_in_fence(img):\n",
    "    distances_in=[]\n",
    "    contor, hierarchy=findContrs(threshold(img))\n",
    "    for i in range(len(contor)):\n",
    "        check=cv2.pointPolygonTest((contor[i]), findMidPoints(img), measureDist = False)\n",
    "        distance = abs(int(cv2.pointPolygonTest((contor[i]), findMidPoints(img), measureDist = True)))\n",
    "        if check == 1:\n",
    "            if hierarchy[0][i][3] != -1:\n",
    "                distances_in.append((distance, 'roads'))\n",
    "            else:\n",
    "                distances_in. append((distance, 'buildings'))\n",
    "    return distances_in"
   ]
  },
  {
   "cell_type": "code",
   "execution_count": 785,
   "metadata": {},
   "outputs": [],
   "source": [
    "def find_name(path):\n",
    "    '''This function will return the file name from image'''\n",
    "    return(path.split('\\\\')[-1]).split('.')[0]"
   ]
  },
  {
   "cell_type": "code",
   "execution_count": 786,
   "metadata": {},
   "outputs": [
    {
     "name": "stdout",
     "output_type": "stream",
     "text": [
      "tmp_2 | 5 | buildings\n"
     ]
    }
   ],
   "source": [
    "if check_in_fence(img) is not None:\n",
    "    dist, block = min(check_in_fence(img))\n",
    "    print(f'{find_name(path)} | {dist} | {block}')\n",
    "elif check_out_fence(img) is not None:\n",
    "    dist, block = min(check_out_fence(img))\n",
    "    print(f'{find_name(path)} | {dist} | {block}')\n",
    "else:\n",
    "    dist, block = min(check_on_fence(img))\n",
    "    print(f'{find_name(path)} | {dist} | {block}')\n",
    "    "
   ]
  },
  {
   "cell_type": "code",
   "execution_count": null,
   "metadata": {},
   "outputs": [],
   "source": []
  },
  {
   "cell_type": "code",
   "execution_count": null,
   "metadata": {},
   "outputs": [],
   "source": []
  }
 ],
 "metadata": {
  "kernelspec": {
   "display_name": "Python 3",
   "language": "python",
   "name": "python3"
  },
  "language_info": {
   "codemirror_mode": {
    "name": "ipython",
    "version": 3
   },
   "file_extension": ".py",
   "mimetype": "text/x-python",
   "name": "python",
   "nbconvert_exporter": "python",
   "pygments_lexer": "ipython3",
   "version": "3.8.5"
  }
 },
 "nbformat": 4,
 "nbformat_minor": 4
}
